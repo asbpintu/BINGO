{
 "cells": [
  {
   "cell_type": "code",
   "execution_count": 1,
   "metadata": {},
   "outputs": [],
   "source": [
    "nums = list(range(1, 26))\n",
    "# nums = [1,2,3,4,5,6,7,8,9]"
   ]
  },
  {
   "cell_type": "code",
   "execution_count": 2,
   "metadata": {},
   "outputs": [
    {
     "name": "stdout",
     "output_type": "stream",
     "text": [
      "[1, 2, 3, 4, 5, 6, 7, 8, 9, 10, 11, 12, 13, 14, 15, 16, 17, 18, 19, 20, 21, 22, 23, 24, 25]\n"
     ]
    }
   ],
   "source": [
    "print(nums)"
   ]
  },
  {
   "cell_type": "code",
   "execution_count": 3,
   "metadata": {},
   "outputs": [
    {
     "data": {
      "text/plain": [
       "25"
      ]
     },
     "execution_count": 3,
     "metadata": {},
     "output_type": "execute_result"
    }
   ],
   "source": [
    "len(nums)"
   ]
  },
  {
   "cell_type": "code",
   "execution_count": 4,
   "metadata": {},
   "outputs": [],
   "source": [
    "# !pip install numpy"
   ]
  },
  {
   "cell_type": "code",
   "execution_count": 5,
   "metadata": {},
   "outputs": [],
   "source": [
    "import numpy as np"
   ]
  },
  {
   "cell_type": "code",
   "execution_count": 6,
   "metadata": {},
   "outputs": [],
   "source": [
    "mat = np.array(nums).reshape(5,5)"
   ]
  },
  {
   "cell_type": "code",
   "execution_count": 7,
   "metadata": {},
   "outputs": [
    {
     "name": "stdout",
     "output_type": "stream",
     "text": [
      "[[ 1  2  3  4  5]\n",
      " [ 6  7  8  9 10]\n",
      " [11 12 13 14 15]\n",
      " [16 17 18 19 20]\n",
      " [21 22 23 24 25]]\n"
     ]
    }
   ],
   "source": [
    "print(mat)"
   ]
  },
  {
   "cell_type": "code",
   "execution_count": 8,
   "metadata": {},
   "outputs": [
    {
     "data": {
      "text/plain": [
       "np.int64(9)"
      ]
     },
     "execution_count": 8,
     "metadata": {},
     "output_type": "execute_result"
    }
   ],
   "source": [
    "mat[1,3]"
   ]
  },
  {
   "cell_type": "code",
   "execution_count": 9,
   "metadata": {},
   "outputs": [
    {
     "data": {
      "text/plain": [
       "5"
      ]
     },
     "execution_count": 9,
     "metadata": {},
     "output_type": "execute_result"
    }
   ],
   "source": [
    "len(mat)"
   ]
  },
  {
   "cell_type": "code",
   "execution_count": 10,
   "metadata": {},
   "outputs": [
    {
     "data": {
      "text/plain": [
       "array([[ 1,  2,  3,  4,  5],\n",
       "       [ 6,  7,  8,  9, 10],\n",
       "       [11, 12, 13, 14, 15],\n",
       "       [16, 17, 18, 19, 20],\n",
       "       [21, 22, 23, 24, 25]])"
      ]
     },
     "execution_count": 10,
     "metadata": {},
     "output_type": "execute_result"
    }
   ],
   "source": [
    "mat"
   ]
  },
  {
   "cell_type": "code",
   "execution_count": 11,
   "metadata": {},
   "outputs": [],
   "source": [
    "import random"
   ]
  },
  {
   "cell_type": "code",
   "execution_count": 12,
   "metadata": {},
   "outputs": [
    {
     "name": "stdout",
     "output_type": "stream",
     "text": [
      "[1, 2, 3, 4, 5, 6, 7, 8, 9, 10, 11, 12, 13, 14, 15, 16, 17, 18, 19, 20, 21, 22, 23, 24, 25]\n"
     ]
    }
   ],
   "source": [
    "print(nums)"
   ]
  },
  {
   "cell_type": "code",
   "execution_count": 13,
   "metadata": {},
   "outputs": [],
   "source": [
    "nums1 = nums.copy()\n",
    "nums2 = nums.copy()"
   ]
  },
  {
   "cell_type": "code",
   "execution_count": 14,
   "metadata": {},
   "outputs": [],
   "source": [
    "random.shuffle(nums1)\n",
    "random.shuffle(nums2)\n"
   ]
  },
  {
   "cell_type": "code",
   "execution_count": 15,
   "metadata": {},
   "outputs": [
    {
     "name": "stdout",
     "output_type": "stream",
     "text": [
      "[1, 2, 3, 4, 5, 6, 7, 8, 9, 10, 11, 12, 13, 14, 15, 16, 17, 18, 19, 20, 21, 22, 23, 24, 25] [10, 21, 11, 9, 22, 6, 13, 4, 8, 1, 15, 23, 3, 20, 7, 25, 2, 5, 12, 18, 19, 16, 17, 24, 14] [5, 4, 14, 23, 12, 6, 8, 25, 7, 16, 10, 20, 19, 15, 11, 22, 18, 1, 17, 3, 21, 9, 2, 24, 13]\n"
     ]
    }
   ],
   "source": [
    "print(nums,nums1,nums2)"
   ]
  },
  {
   "cell_type": "code",
   "execution_count": 16,
   "metadata": {},
   "outputs": [],
   "source": [
    "mat = np.array(nums).reshape(5,5)\n",
    "mat1 = np.array(nums1).reshape(5,5)\n",
    "mat2 = np.array(nums2).reshape(5,5)"
   ]
  },
  {
   "cell_type": "code",
   "execution_count": 17,
   "metadata": {},
   "outputs": [
    {
     "name": "stdout",
     "output_type": "stream",
     "text": [
      "[[ 1  2  3  4  5]\n",
      " [ 6  7  8  9 10]\n",
      " [11 12 13 14 15]\n",
      " [16 17 18 19 20]\n",
      " [21 22 23 24 25]] \n",
      "\n",
      "\n",
      "[[10 21 11  9 22]\n",
      " [ 6 13  4  8  1]\n",
      " [15 23  3 20  7]\n",
      " [25  2  5 12 18]\n",
      " [19 16 17 24 14]] \n",
      "\n",
      "\n",
      "[[ 5  4 14 23 12]\n",
      " [ 6  8 25  7 16]\n",
      " [10 20 19 15 11]\n",
      " [22 18  1 17  3]\n",
      " [21  9  2 24 13]]\n"
     ]
    }
   ],
   "source": [
    "print(mat,'\\n\\n')\n",
    "print(mat1,'\\n\\n')\n",
    "print(mat2)"
   ]
  },
  {
   "cell_type": "code",
   "execution_count": 19,
   "metadata": {},
   "outputs": [
    {
     "name": "stdout",
     "output_type": "stream",
     "text": [
      "[[10 21 11  9 22]\n",
      " [ 6 13  4  8  0]\n",
      " [15 23  3 20  7]\n",
      " [25  2  5 12 18]\n",
      " [19 16 17 24 14]] \n",
      "\n",
      "\n",
      "[[ 5  4 14 23 12]\n",
      " [ 6  8 25  7 16]\n",
      " [10 20 19 15 11]\n",
      " [22 18  0 17  3]\n",
      " [21  9  2 24 13]]\n",
      "\n",
      "\n",
      "\n",
      "\n",
      "***********************************************\n",
      "Player 1 cross 0 lines.\n",
      "\n",
      "\n",
      "\n",
      "Player 2 cross 0 lines.\n",
      "***********************************************\n",
      "\n",
      "\n",
      "\n",
      "\n",
      "[[10 21 11  9 22]\n",
      " [ 6 13  4  8  0]\n",
      " [15 23  3 20  7]\n",
      " [25  0  5 12 18]\n",
      " [19 16 17 24 14]] \n",
      "\n",
      "\n",
      "[[ 5  4 14 23 12]\n",
      " [ 6  8 25  7 16]\n",
      " [10 20 19 15 11]\n",
      " [22 18  0 17  3]\n",
      " [21  9  0 24 13]]\n",
      "\n",
      "\n",
      "\n",
      "\n",
      "***********************************************\n",
      "Player 1 cross 0 lines.\n",
      "\n",
      "\n",
      "\n",
      "Player 2 cross 0 lines.\n",
      "***********************************************\n",
      "\n",
      "\n",
      "\n",
      "\n",
      "[[10 21 11  9 22]\n",
      " [ 6 13  4  8  0]\n",
      " [15 23  0 20  7]\n",
      " [25  0  5 12 18]\n",
      " [19 16 17 24 14]] \n",
      "\n",
      "\n",
      "[[ 5  4 14 23 12]\n",
      " [ 6  8 25  7 16]\n",
      " [10 20 19 15 11]\n",
      " [22 18  0 17  0]\n",
      " [21  9  0 24 13]]\n",
      "\n",
      "\n",
      "\n",
      "\n",
      "***********************************************\n",
      "Player 1 cross 0 lines.\n",
      "\n",
      "\n",
      "\n",
      "Player 2 cross 0 lines.\n",
      "***********************************************\n",
      "\n",
      "\n",
      "\n",
      "\n",
      "[[10 21 11  9 22]\n",
      " [ 6 13  0  8  0]\n",
      " [15 23  0 20  7]\n",
      " [25  0  5 12 18]\n",
      " [19 16 17 24 14]] \n",
      "\n",
      "\n",
      "[[ 5  0 14 23 12]\n",
      " [ 6  8 25  7 16]\n",
      " [10 20 19 15 11]\n",
      " [22 18  0 17  0]\n",
      " [21  9  0 24 13]]\n",
      "\n",
      "\n",
      "\n",
      "\n",
      "***********************************************\n",
      "Player 1 cross 0 lines.\n",
      "\n",
      "\n",
      "\n",
      "Player 2 cross 0 lines.\n",
      "***********************************************\n",
      "\n",
      "\n",
      "\n",
      "\n",
      "[[10 21 11  9 22]\n",
      " [ 6 13  0  8  0]\n",
      " [15 23  0 20  7]\n",
      " [25  0  0 12 18]\n",
      " [19 16 17 24 14]] \n",
      "\n",
      "\n",
      "[[ 0  0 14 23 12]\n",
      " [ 6  8 25  7 16]\n",
      " [10 20 19 15 11]\n",
      " [22 18  0 17  0]\n",
      " [21  9  0 24 13]]\n",
      "\n",
      "\n",
      "\n",
      "\n",
      "***********************************************\n",
      "Player 1 cross 0 lines.\n",
      "\n",
      "\n",
      "\n",
      "Player 2 cross 0 lines.\n",
      "***********************************************\n",
      "\n",
      "\n",
      "\n",
      "\n",
      "[[10 21 11  9 22]\n",
      " [ 0 13  0  8  0]\n",
      " [15 23  0 20  7]\n",
      " [25  0  0 12 18]\n",
      " [19 16 17 24 14]] \n",
      "\n",
      "\n",
      "[[ 0  0 14 23 12]\n",
      " [ 0  8 25  7 16]\n",
      " [10 20 19 15 11]\n",
      " [22 18  0 17  0]\n",
      " [21  9  0 24 13]]\n",
      "\n",
      "\n",
      "\n",
      "\n",
      "***********************************************\n",
      "Player 1 cross 0 lines.\n",
      "\n",
      "\n",
      "\n",
      "Player 2 cross 0 lines.\n",
      "***********************************************\n",
      "\n",
      "\n",
      "\n",
      "\n",
      "[[10 21 11  9 22]\n",
      " [ 0 13  0  8  0]\n",
      " [15 23  0 20  0]\n",
      " [25  0  0 12 18]\n",
      " [19 16 17 24 14]] \n",
      "\n",
      "\n",
      "[[ 0  0 14 23 12]\n",
      " [ 0  8 25  0 16]\n",
      " [10 20 19 15 11]\n",
      " [22 18  0 17  0]\n",
      " [21  9  0 24 13]]\n",
      "\n",
      "\n",
      "\n",
      "\n",
      "***********************************************\n",
      "Player 1 cross 0 lines.\n",
      "\n",
      "\n",
      "\n",
      "Player 2 cross 0 lines.\n",
      "***********************************************\n",
      "\n",
      "\n",
      "\n",
      "\n",
      "[[10 21 11  9 22]\n",
      " [ 0 13  0  0  0]\n",
      " [15 23  0 20  0]\n",
      " [25  0  0 12 18]\n",
      " [19 16 17 24 14]] \n",
      "\n",
      "\n",
      "[[ 0  0 14 23 12]\n",
      " [ 0  0 25  0 16]\n",
      " [10 20 19 15 11]\n",
      " [22 18  0 17  0]\n",
      " [21  9  0 24 13]]\n",
      "\n",
      "\n",
      "\n",
      "\n",
      "***********************************************\n",
      "Player 1 cross 0 lines.\n",
      "\n",
      "\n",
      "\n",
      "Player 2 cross 0 lines.\n",
      "***********************************************\n",
      "\n",
      "\n",
      "\n",
      "\n",
      "[[10 21 11  0 22]\n",
      " [ 0 13  0  0  0]\n",
      " [15 23  0 20  0]\n",
      " [25  0  0 12 18]\n",
      " [19 16 17 24 14]] \n",
      "\n",
      "\n",
      "[[ 0  0 14 23 12]\n",
      " [ 0  0 25  0 16]\n",
      " [10 20 19 15 11]\n",
      " [22 18  0 17  0]\n",
      " [21  0  0 24 13]]\n",
      "\n",
      "\n",
      "\n",
      "\n",
      "***********************************************\n",
      "Player 1 cross 0 lines.\n",
      "\n",
      "\n",
      "\n",
      "Player 2 cross 0 lines.\n",
      "***********************************************\n",
      "\n",
      "\n",
      "\n",
      "\n",
      "[[ 0 21 11  0 22]\n",
      " [ 0 13  0  0  0]\n",
      " [15 23  0 20  0]\n",
      " [25  0  0 12 18]\n",
      " [19 16 17 24 14]] \n",
      "\n",
      "\n",
      "[[ 0  0 14 23 12]\n",
      " [ 0  0 25  0 16]\n",
      " [ 0 20 19 15 11]\n",
      " [22 18  0 17  0]\n",
      " [21  0  0 24 13]]\n",
      "\n",
      "\n",
      "\n",
      "\n",
      "***********************************************\n",
      "Player 1 cross 0 lines.\n",
      "\n",
      "\n",
      "\n",
      "Player 2 cross 0 lines.\n",
      "***********************************************\n",
      "\n",
      "\n",
      "\n",
      "\n",
      "[[ 0 21  0  0 22]\n",
      " [ 0 13  0  0  0]\n",
      " [15 23  0 20  0]\n",
      " [25  0  0 12 18]\n",
      " [19 16 17 24 14]] \n",
      "\n",
      "\n",
      "[[ 0  0 14 23 12]\n",
      " [ 0  0 25  0 16]\n",
      " [ 0 20 19 15  0]\n",
      " [22 18  0 17  0]\n",
      " [21  0  0 24 13]]\n",
      "\n",
      "\n",
      "\n",
      "\n",
      "***********************************************\n",
      "Player 1 cross 0 lines.\n",
      "\n",
      "\n",
      "\n",
      "Player 2 cross 0 lines.\n",
      "***********************************************\n",
      "\n",
      "\n",
      "\n",
      "\n",
      "[[ 0 21  0  0 22]\n",
      " [ 0 13  0  0  0]\n",
      " [15 23  0 20  0]\n",
      " [25  0  0  0 18]\n",
      " [19 16 17 24 14]] \n",
      "\n",
      "\n",
      "[[ 0  0 14 23  0]\n",
      " [ 0  0 25  0 16]\n",
      " [ 0 20 19 15  0]\n",
      " [22 18  0 17  0]\n",
      " [21  0  0 24 13]]\n",
      "\n",
      "\n",
      "\n",
      "\n",
      "***********************************************\n",
      "Player 1 cross 0 lines.\n",
      "\n",
      "\n",
      "\n",
      "Player 2 cross 0 lines.\n",
      "***********************************************\n",
      "\n",
      "\n",
      "\n",
      "\n",
      "[[ 0 21  0  0 22]\n",
      " [ 0  0  0  0  0]\n",
      " [15 23  0 20  0]\n",
      " [25  0  0  0 18]\n",
      " [19 16 17 24 14]] \n",
      "\n",
      "\n",
      "[[ 0  0 14 23  0]\n",
      " [ 0  0 25  0 16]\n",
      " [ 0 20 19 15  0]\n",
      " [22 18  0 17  0]\n",
      " [21  0  0 24  0]]\n",
      "\n",
      "\n",
      "\n",
      "\n",
      "***********************************************\n",
      "Player 1 cross 1 lines.\n",
      "\n",
      "\n",
      "\n",
      "Player 2 cross 0 lines.\n",
      "***********************************************\n",
      "\n",
      "\n",
      "\n",
      "\n",
      "[[ 0 21  0  0 22]\n",
      " [ 0  0  0  0  0]\n",
      " [15 23  0 20  0]\n",
      " [25  0  0  0 18]\n",
      " [19 16 17 24  0]] \n",
      "\n",
      "\n",
      "[[ 0  0  0 23  0]\n",
      " [ 0  0 25  0 16]\n",
      " [ 0 20 19 15  0]\n",
      " [22 18  0 17  0]\n",
      " [21  0  0 24  0]]\n",
      "\n",
      "\n",
      "\n",
      "\n",
      "***********************************************\n",
      "Player 1 cross 1 lines.\n",
      "\n",
      "\n",
      "\n",
      "Player 2 cross 0 lines.\n",
      "***********************************************\n",
      "\n",
      "\n",
      "\n",
      "\n",
      "[[ 0 21  0  0 22]\n",
      " [ 0  0  0  0  0]\n",
      " [ 0 23  0 20  0]\n",
      " [25  0  0  0 18]\n",
      " [19 16 17 24  0]] \n",
      "\n",
      "\n",
      "[[ 0  0  0 23  0]\n",
      " [ 0  0 25  0 16]\n",
      " [ 0 20 19  0  0]\n",
      " [22 18  0 17  0]\n",
      " [21  0  0 24  0]]\n",
      "\n",
      "\n",
      "\n",
      "\n",
      "***********************************************\n",
      "Player 1 cross 1 lines.\n",
      "\n",
      "\n",
      "\n",
      "Player 2 cross 0 lines.\n",
      "***********************************************\n",
      "\n",
      "\n",
      "\n",
      "\n",
      "[[ 0 21  0  0 22]\n",
      " [ 0  0  0  0  0]\n",
      " [ 0 23  0 20  0]\n",
      " [25  0  0  0 18]\n",
      " [19  0 17 24  0]] \n",
      "\n",
      "\n",
      "[[ 0  0  0 23  0]\n",
      " [ 0  0 25  0  0]\n",
      " [ 0 20 19  0  0]\n",
      " [22 18  0 17  0]\n",
      " [21  0  0 24  0]]\n",
      "\n",
      "\n",
      "\n",
      "\n",
      "***********************************************\n",
      "Player 1 cross 1 lines.\n",
      "\n",
      "\n",
      "\n",
      "Player 2 cross 1 lines.\n",
      "***********************************************\n",
      "\n",
      "\n",
      "\n",
      "\n",
      "[[ 0 21  0  0 22]\n",
      " [ 0  0  0  0  0]\n",
      " [ 0 23  0 20  0]\n",
      " [25  0  0  0 18]\n",
      " [19  0  0 24  0]] \n",
      "\n",
      "\n",
      "[[ 0  0  0 23  0]\n",
      " [ 0  0 25  0  0]\n",
      " [ 0 20 19  0  0]\n",
      " [22 18  0  0  0]\n",
      " [21  0  0 24  0]]\n",
      "\n",
      "\n",
      "\n",
      "\n",
      "***********************************************\n",
      "Player 1 cross 2 lines.\n",
      "\n",
      "\n",
      "\n",
      "Player 2 cross 1 lines.\n",
      "***********************************************\n",
      "\n",
      "\n",
      "\n",
      "\n",
      "[[ 0 21  0  0 22]\n",
      " [ 0  0  0  0  0]\n",
      " [ 0 23  0 20  0]\n",
      " [25  0  0  0  0]\n",
      " [19  0  0 24  0]] \n",
      "\n",
      "\n",
      "[[ 0  0  0 23  0]\n",
      " [ 0  0 25  0  0]\n",
      " [ 0 20 19  0  0]\n",
      " [22  0  0  0  0]\n",
      " [21  0  0 24  0]]\n",
      "\n",
      "\n",
      "\n",
      "\n",
      "***********************************************\n",
      "Player 1 cross 2 lines.\n",
      "\n",
      "\n",
      "\n",
      "Player 2 cross 1 lines.\n",
      "***********************************************\n",
      "\n",
      "\n",
      "\n",
      "\n",
      "[[ 0 21  0  0 22]\n",
      " [ 0  0  0  0  0]\n",
      " [ 0 23  0 20  0]\n",
      " [25  0  0  0  0]\n",
      " [ 0  0  0 24  0]] \n",
      "\n",
      "\n",
      "[[ 0  0  0 23  0]\n",
      " [ 0  0 25  0  0]\n",
      " [ 0 20  0  0  0]\n",
      " [22  0  0  0  0]\n",
      " [21  0  0 24  0]]\n",
      "\n",
      "\n",
      "\n",
      "\n",
      "***********************************************\n",
      "Player 1 cross 2 lines.\n",
      "\n",
      "\n",
      "\n",
      "Player 2 cross 1 lines.\n",
      "***********************************************\n",
      "\n",
      "\n",
      "\n",
      "\n",
      "[[ 0 21  0  0 22]\n",
      " [ 0  0  0  0  0]\n",
      " [ 0 23  0  0  0]\n",
      " [25  0  0  0  0]\n",
      " [ 0  0  0 24  0]] \n",
      "\n",
      "\n",
      "[[ 0  0  0 23  0]\n",
      " [ 0  0 25  0  0]\n",
      " [ 0  0  0  0  0]\n",
      " [22  0  0  0  0]\n",
      " [21  0  0 24  0]]\n",
      "\n",
      "\n",
      "\n",
      "\n",
      "***********************************************\n",
      "Player 1 cross 2 lines.\n",
      "\n",
      "\n",
      "\n",
      "Player 2 cross 3 lines.\n",
      "***********************************************\n",
      "\n",
      "\n",
      "\n",
      "\n",
      "[[ 0  0  0  0 22]\n",
      " [ 0  0  0  0  0]\n",
      " [ 0 23  0  0  0]\n",
      " [25  0  0  0  0]\n",
      " [ 0  0  0 24  0]] \n",
      "\n",
      "\n",
      "[[ 0  0  0 23  0]\n",
      " [ 0  0 25  0  0]\n",
      " [ 0  0  0  0  0]\n",
      " [22  0  0  0  0]\n",
      " [ 0  0  0 24  0]]\n",
      "\n",
      "\n",
      "\n",
      "\n",
      "***********************************************\n",
      "Player 1 cross 2 lines.\n",
      "\n",
      "\n",
      "\n",
      "Player 2 cross 3 lines.\n",
      "***********************************************\n",
      "\n",
      "\n",
      "\n",
      "\n",
      "[[ 0  0  0  0  0]\n",
      " [ 0  0  0  0  0]\n",
      " [ 0 23  0  0  0]\n",
      " [25  0  0  0  0]\n",
      " [ 0  0  0 24  0]] \n",
      "\n",
      "\n",
      "[[ 0  0  0 23  0]\n",
      " [ 0  0 25  0  0]\n",
      " [ 0  0  0  0  0]\n",
      " [ 0  0  0  0  0]\n",
      " [ 0  0  0 24  0]]\n",
      "\n",
      "\n",
      "\n",
      "\n",
      "***********************************************\n",
      "Player 1 cross 4 lines.\n",
      "\n",
      "\n",
      "\n",
      "Player 2 cross 5 lines.\n",
      "***********************************************\n",
      "\n",
      "\n",
      "\n",
      "\n",
      "Player 2 win\n"
     ]
    }
   ],
   "source": [
    "nums = list(range(1, 26))\n",
    "\n",
    "nums1 = nums.copy()\n",
    "nums2 = nums.copy()\n",
    "\n",
    "random.shuffle(nums1)\n",
    "random.shuffle(nums2)\n",
    "\n",
    "mat1 = np.array(nums1).reshape(5,5)\n",
    "mat2 = np.array(nums2).reshape(5,5)\n",
    "\n",
    "\n",
    "i=0\n",
    "\n",
    "while i < len(nums):\n",
    "    mynum = int(input(\"Enter your Numbe  :  \"))\n",
    "    index1 = np.where(mat1 == mynum)\n",
    "    index2 = np.where(mat2 == mynum)\n",
    "\n",
    "    mat1[index1] = 0\n",
    "    mat2[index2] = 0\n",
    "\n",
    "    # print(mat,'\\n\\n')\n",
    "    print(mat1,'\\n\\n')\n",
    "    print(mat2)\n",
    "    print('\\n\\n\\n')\n",
    "\n",
    "\n",
    "    col_zero_1 = sum(mat1)\n",
    "    row_zero_1 = sum(np.transpose(mat1))\n",
    "\n",
    "    col_zero_2 = sum(mat2)\n",
    "    row_zero_2 = sum(np.transpose(mat2))\n",
    "\n",
    "    col_index_zero_1 = np.where(col_zero_1 == 0)\n",
    "    row_index_zero_1 = np.where(row_zero_1 == 0)\n",
    "\n",
    "    col_index_zero_2 = np.where(col_zero_2 == 0)\n",
    "    row_index_zero_2 = np.where(row_zero_2 == 0)\n",
    "\n",
    "    totalzero_1 = len(col_index_zero_1[0]) + len(row_index_zero_1[0])\n",
    "    totalzero_2 = len(col_index_zero_2[0]) + len(row_index_zero_2[0])\n",
    "\n",
    "    print('***********************************************')\n",
    "    print(f'Player 1 cross {totalzero_1} lines.')\n",
    "    print('\\n\\n')\n",
    "    print(f'Player 2 cross {totalzero_2} lines.')\n",
    "    print('***********************************************')\n",
    "    print('\\n\\n\\n')\n",
    "\n",
    "    if totalzero_1 == 5:\n",
    "        print('Player 1 win')\n",
    "        break\n",
    "    elif totalzero_2 == 5:\n",
    "        print('Player 2 win')\n",
    "        break\n",
    "    else:\n",
    "        i += 1\n"
   ]
  },
  {
   "cell_type": "code",
   "execution_count": null,
   "metadata": {},
   "outputs": [],
   "source": []
  },
  {
   "cell_type": "code",
   "execution_count": 97,
   "metadata": {},
   "outputs": [
    {
     "data": {
      "text/plain": [
       "array([[ 1,  2,  3,  4,  5],\n",
       "       [ 6,  7,  8,  9, 10],\n",
       "       [11, 12, 13, 14, 15],\n",
       "       [16, 17, 18, 19, 20],\n",
       "       [21, 22, 23, 24, 25]])"
      ]
     },
     "execution_count": 97,
     "metadata": {},
     "output_type": "execute_result"
    }
   ],
   "source": [
    "mat"
   ]
  },
  {
   "cell_type": "code",
   "execution_count": 98,
   "metadata": {},
   "outputs": [
    {
     "data": {
      "text/plain": [
       "array([55, 60, 65, 70, 75])"
      ]
     },
     "execution_count": 98,
     "metadata": {},
     "output_type": "execute_result"
    }
   ],
   "source": [
    "col_zero_1 = sum(mat1)\n",
    "row_zero_1 = sum(np.transpose(mat1))\n",
    "\n",
    "\n",
    "col_zero_2 = sum(mat2)\n",
    "row_zero_2 = sum(np.transpose(mat2))"
   ]
  },
  {
   "cell_type": "code",
   "execution_count": 99,
   "metadata": {},
   "outputs": [
    {
     "data": {
      "text/plain": [
       "array([ 15,  40,  65,  90, 115])"
      ]
     },
     "execution_count": 99,
     "metadata": {},
     "output_type": "execute_result"
    }
   ],
   "source": [
    "row_zero_1 = sum(np.transpose(mat))"
   ]
  },
  {
   "cell_type": "code",
   "execution_count": 100,
   "metadata": {},
   "outputs": [],
   "source": [
    "kkk = [1,5,5,7,85,5,54,4,7,5,2,4]"
   ]
  },
  {
   "cell_type": "code",
   "execution_count": 102,
   "metadata": {},
   "outputs": [],
   "source": [
    "kkk = np.array(kkk)"
   ]
  },
  {
   "cell_type": "code",
   "execution_count": 103,
   "metadata": {},
   "outputs": [
    {
     "data": {
      "text/plain": [
       "(array([1, 2, 5, 9]),)"
      ]
     },
     "execution_count": 103,
     "metadata": {},
     "output_type": "execute_result"
    }
   ],
   "source": [
    "np.where(kkk == 5)"
   ]
  },
  {
   "cell_type": "code",
   "execution_count": 115,
   "metadata": {},
   "outputs": [
    {
     "data": {
      "text/plain": [
       "1"
      ]
     },
     "execution_count": 115,
     "metadata": {},
     "output_type": "execute_result"
    }
   ],
   "source": [
    "len(np.where(kkk == 5))"
   ]
  },
  {
   "cell_type": "code",
   "execution_count": 113,
   "metadata": {},
   "outputs": [
    {
     "data": {
      "text/plain": [
       "array([1, 2, 5, 9])"
      ]
     },
     "execution_count": 113,
     "metadata": {},
     "output_type": "execute_result"
    }
   ],
   "source": [
    "np.where(kkk == 5)[0]"
   ]
  },
  {
   "cell_type": "code",
   "execution_count": 114,
   "metadata": {},
   "outputs": [
    {
     "data": {
      "text/plain": [
       "4"
      ]
     },
     "execution_count": 114,
     "metadata": {},
     "output_type": "execute_result"
    }
   ],
   "source": [
    "len(np.where(kkk == 5)[0])"
   ]
  },
  {
   "cell_type": "code",
   "execution_count": null,
   "metadata": {},
   "outputs": [],
   "source": []
  },
  {
   "cell_type": "code",
   "execution_count": 104,
   "metadata": {},
   "outputs": [
    {
     "data": {
      "text/plain": [
       "array([5, 5, 5, 5])"
      ]
     },
     "execution_count": 104,
     "metadata": {},
     "output_type": "execute_result"
    }
   ],
   "source": [
    "kkk[np.where(kkk == 5)]"
   ]
  },
  {
   "cell_type": "code",
   "execution_count": null,
   "metadata": {},
   "outputs": [],
   "source": []
  },
  {
   "cell_type": "code",
   "execution_count": null,
   "metadata": {},
   "outputs": [],
   "source": []
  }
 ],
 "metadata": {
  "kernelspec": {
   "display_name": "bingo",
   "language": "python",
   "name": "python3"
  },
  "language_info": {
   "codemirror_mode": {
    "name": "ipython",
    "version": 3
   },
   "file_extension": ".py",
   "mimetype": "text/x-python",
   "name": "python",
   "nbconvert_exporter": "python",
   "pygments_lexer": "ipython3",
   "version": "3.9.20"
  }
 },
 "nbformat": 4,
 "nbformat_minor": 2
}
